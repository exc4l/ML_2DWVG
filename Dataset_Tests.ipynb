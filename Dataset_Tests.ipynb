{
  "nbformat": 4,
  "nbformat_minor": 0,
  "metadata": {
    "colab": {
      "name": "Dataset Tests.ipynb",
      "provenance": [],
      "collapsed_sections": [],
      "toc_visible": true
    },
    "kernelspec": {
      "name": "python3",
      "display_name": "Python 3"
    },
    "language_info": {
      "name": "python"
    },
    "accelerator": "GPU"
  },
  "cells": [
    {
      "cell_type": "markdown",
      "metadata": {
        "id": "6eBLGzE81423"
      },
      "source": [
        "# Dataset Testing\n",
        "\n",
        "While the repository features a vast amount of data in general this won't be the case and obtaining data is often the most expensive task. Therefore, I'm trying out different ways of sampling the available data and look at the results. It seems reasonable to assume that 2000 generated data points are available which will be split into training, validation and testing.\n",
        "\n",
        "First way of selecting data will be random sampling.\\\n",
        "Second, uniformly sampling across the (n_core-n_clad=x)-subsets.\\\n",
        "Third, maximizing \"coverage\".\n",
        "\n",
        "Testing could also be done against the whole dataset."
      ]
    },
    {
      "cell_type": "markdown",
      "metadata": {
        "id": "ETjFdPoC77-E"
      },
      "source": [
        ""
      ]
    },
    {
      "cell_type": "code",
      "metadata": {
        "colab": {
          "base_uri": "https://localhost:8080/"
        },
        "id": "WmYICYhBe2Qs",
        "outputId": "260e850a-a2e6-4ef9-e4ee-64cc72dad07b"
      },
      "source": [
        "if \"google.colab\" in str(get_ipython()):\n",
        "    !pip install ipython-autotime\n",
        "    !pip install numpy_indexed\n",
        "    %load_ext autotime\n",
        "    COLAB = True\n",
        "    !rm -rf ML_2DWVG\n",
        "    !git clone https://github.com/exc4l/ML_2DWVG\n",
        "    datadir = \"ML_2DWVG/data/\"\n",
        "    from google.colab import files"
      ],
      "execution_count": 1,
      "outputs": [
        {
          "output_type": "stream",
          "text": [
            "Requirement already satisfied: ipython-autotime in /usr/local/lib/python3.7/dist-packages (0.3.1)\n",
            "Requirement already satisfied: ipython in /usr/local/lib/python3.7/dist-packages (from ipython-autotime) (5.5.0)\n",
            "Requirement already satisfied: pickleshare in /usr/local/lib/python3.7/dist-packages (from ipython->ipython-autotime) (0.7.5)\n",
            "Requirement already satisfied: setuptools>=18.5 in /usr/local/lib/python3.7/dist-packages (from ipython->ipython-autotime) (56.1.0)\n",
            "Requirement already satisfied: simplegeneric>0.8 in /usr/local/lib/python3.7/dist-packages (from ipython->ipython-autotime) (0.8.1)\n",
            "Requirement already satisfied: decorator in /usr/local/lib/python3.7/dist-packages (from ipython->ipython-autotime) (4.4.2)\n",
            "Requirement already satisfied: prompt-toolkit<2.0.0,>=1.0.4 in /usr/local/lib/python3.7/dist-packages (from ipython->ipython-autotime) (1.0.18)\n",
            "Requirement already satisfied: traitlets>=4.2 in /usr/local/lib/python3.7/dist-packages (from ipython->ipython-autotime) (5.0.5)\n",
            "Requirement already satisfied: pexpect; sys_platform != \"win32\" in /usr/local/lib/python3.7/dist-packages (from ipython->ipython-autotime) (4.8.0)\n",
            "Requirement already satisfied: pygments in /usr/local/lib/python3.7/dist-packages (from ipython->ipython-autotime) (2.6.1)\n",
            "Requirement already satisfied: six>=1.9.0 in /usr/local/lib/python3.7/dist-packages (from prompt-toolkit<2.0.0,>=1.0.4->ipython->ipython-autotime) (1.15.0)\n",
            "Requirement already satisfied: wcwidth in /usr/local/lib/python3.7/dist-packages (from prompt-toolkit<2.0.0,>=1.0.4->ipython->ipython-autotime) (0.2.5)\n",
            "Requirement already satisfied: ipython-genutils in /usr/local/lib/python3.7/dist-packages (from traitlets>=4.2->ipython->ipython-autotime) (0.2.0)\n",
            "Requirement already satisfied: ptyprocess>=0.5 in /usr/local/lib/python3.7/dist-packages (from pexpect; sys_platform != \"win32\"->ipython->ipython-autotime) (0.7.0)\n",
            "Requirement already satisfied: numpy_indexed in /usr/local/lib/python3.7/dist-packages (0.3.5)\n",
            "Requirement already satisfied: future in /usr/local/lib/python3.7/dist-packages (from numpy_indexed) (0.16.0)\n",
            "Requirement already satisfied: numpy in /usr/local/lib/python3.7/dist-packages (from numpy_indexed) (1.19.5)\n",
            "Cloning into 'ML_2DWVG'...\n",
            "remote: Enumerating objects: 13, done.\u001b[K\n",
            "remote: Counting objects: 100% (13/13), done.\u001b[K\n",
            "remote: Compressing objects: 100% (11/11), done.\u001b[K\n",
            "remote: Total 13 (delta 2), reused 9 (delta 1), pack-reused 0\u001b[K\n",
            "Unpacking objects: 100% (13/13), done.\n",
            "time: 825 ms (started: 2021-05-24 07:08:31 +00:00)\n"
          ],
          "name": "stdout"
        }
      ]
    },
    {
      "cell_type": "code",
      "metadata": {
        "colab": {
          "base_uri": "https://localhost:8080/"
        },
        "id": "3_5CkndzfpEP",
        "outputId": "5ac5a800-b6f0-4b80-8568-e3c4b804b8c3"
      },
      "source": [
        "import ML_2DWVG.libML as lml\n",
        "import os\n",
        "import tensorflow as tf\n",
        "import numpy as np\n",
        "from glob import glob\n",
        "import pandas as pd\n",
        "import matplotlib.pyplot as plt\n",
        "from mpl_toolkits.mplot3d import Axes3D\n",
        "from sklearn.preprocessing import MinMaxScaler\n",
        "from datetime import datetime\n",
        "# import tensorflow_addons as tfa\n",
        "import tqdm\n",
        "\n",
        "# from tqdm.keras import TqdmCallback\n",
        "\n",
        "plt.rcParams[\"figure.figsize\"] = [12, 8]\n",
        "from sys import getsizeof\n",
        "import numpy_indexed as npi\n",
        "from zipfile import ZipFile\n",
        "import shutil"
      ],
      "execution_count": 2,
      "outputs": [
        {
          "output_type": "stream",
          "text": [
            "time: 1.58 s (started: 2021-05-24 07:08:32 +00:00)\n"
          ],
          "name": "stdout"
        }
      ]
    },
    {
      "cell_type": "code",
      "metadata": {
        "colab": {
          "base_uri": "https://localhost:8080/"
        },
        "id": "1Ua2krot_jva",
        "outputId": "7ec82b7a-b9bf-4c42-d6f2-8b825f24d788"
      },
      "source": [
        "# training parameters for all\n",
        "lr = 0.01\n",
        "batchz = 32\n",
        "epochs = 10000"
      ],
      "execution_count": 3,
      "outputs": [
        {
          "output_type": "stream",
          "text": [
            "time: 1.5 ms (started: 2021-05-24 07:08:34 +00:00)\n"
          ],
          "name": "stdout"
        }
      ]
    },
    {
      "cell_type": "code",
      "metadata": {
        "colab": {
          "base_uri": "https://localhost:8080/"
        },
        "id": "dKzlx5IlfuwW",
        "outputId": "2c1d7f2c-9d5b-46ba-c8a2-1897e3a7dce1"
      },
      "source": [
        "data_arr = np.genfromtxt(f\"{datadir}2dwvg_1550.csv\", delimiter=\",\")\n",
        "input_shape = (5,)"
      ],
      "execution_count": 4,
      "outputs": [
        {
          "output_type": "stream",
          "text": [
            "time: 924 ms (started: 2021-05-24 07:08:34 +00:00)\n"
          ],
          "name": "stdout"
        }
      ]
    },
    {
      "cell_type": "code",
      "metadata": {
        "colab": {
          "base_uri": "https://localhost:8080/",
          "height": 630
        },
        "id": "JDwso5VM5G6m",
        "outputId": "031f385f-27b3-43ca-a791-cd060957f490"
      },
      "source": [
        "lml.np_hist(data_arr)"
      ],
      "execution_count": 5,
      "outputs": [
        {
          "output_type": "execute_result",
          "data": {
            "text/plain": [
              "array([[<matplotlib.axes._subplots.AxesSubplot object at 0x7fdd7d913e50>,\n",
              "        <matplotlib.axes._subplots.AxesSubplot object at 0x7fdd7d89a690>],\n",
              "       [<matplotlib.axes._subplots.AxesSubplot object at 0x7fdd7d85cd10>,\n",
              "        <matplotlib.axes._subplots.AxesSubplot object at 0x7fdd7d9553d0>],\n",
              "       [<matplotlib.axes._subplots.AxesSubplot object at 0x7fdd811cea50>,\n",
              "        <matplotlib.axes._subplots.AxesSubplot object at 0x7fdd7da0e110>]],\n",
              "      dtype=object)"
            ]
          },
          "metadata": {
            "tags": []
          },
          "execution_count": 5
        },
        {
          "output_type": "display_data",
          "data": {
            "image/png": "[encoded data removed]",
            "text/plain": [
              "<Figure size 864x576 with 6 Axes>"
            ]
          },
          "metadata": {
            "tags": [],
            "needs_background": "light"
          }
        },
        {
          "output_type": "stream",
          "text": [
            "time: 1.32 s (started: 2021-05-24 07:08:34 +00:00)\n"
          ],
          "name": "stdout"
        }
      ]
    },
    {
      "cell_type": "code",
      "metadata": {
        "colab": {
          "base_uri": "https://localhost:8080/"
        },
        "id": "NbOQANGM5JCP",
        "outputId": "e39d3c02-b7df-42ad-d02d-1d4e8636aa95"
      },
      "source": [
        "X_train, X_val, X_test, y_train, y_val, y_test, scaler = lml.get_sample_data_to_train(\n",
        "    data_arr, 2000, train_size=0.8, val_size=0.1, test_size=0.1\n",
        ")"
      ],
      "execution_count": 6,
      "outputs": [
        {
          "output_type": "stream",
          "text": [
            "(1600, 5)\n",
            "time: 5.04 ms (started: 2021-05-24 07:08:36 +00:00)\n"
          ],
          "name": "stdout"
        }
      ]
    },
    {
      "cell_type": "code",
      "metadata": {
        "colab": {
          "base_uri": "https://localhost:8080/"
        },
        "id": "oHP_U2Io8rL-",
        "outputId": "4955669f-b20a-426b-9cc0-23474706923f"
      },
      "source": [
        "# define learning rate and optimizer as well as regularizers\n",
        "opt = tf.keras.optimizers.Adam(learning_rate=lr, amsgrad=True)\n",
        "l1reg = tf.keras.regularizers.L1L2(l1=0.000001, l2=0.000001)"
      ],
      "execution_count": 7,
      "outputs": [
        {
          "output_type": "stream",
          "text": [
            "time: 3.71 ms (started: 2021-05-24 07:08:36 +00:00)\n"
          ],
          "name": "stdout"
        }
      ]
    },
    {
      "cell_type": "code",
      "metadata": {
        "colab": {
          "base_uri": "https://localhost:8080/"
        },
        "id": "3qK06u4681Xk",
        "outputId": "30b37a9e-a5d7-485f-cc08-84a3bf2a309b"
      },
      "source": [
        "# 4 layers with 400 neurons each\n",
        "randmodel = tf.keras.Sequential()\n",
        "randmodel.add(tf.keras.Input(shape=input_shape))\n",
        "randmodel.add(tf.keras.layers.Dense(100, activation=\"relu\", kernel_regularizer=l1reg))\n",
        "randmodel.add(tf.keras.layers.Dense(100, activation=\"relu\", kernel_regularizer=l1reg))\n",
        "randmodel.add(tf.keras.layers.Dense(100, activation=\"relu\", kernel_regularizer=l1reg))\n",
        "randmodel.add(tf.keras.layers.Dense(100, activation=\"relu\", kernel_regularizer=l1reg))\n",
        "randmodel.add(tf.keras.layers.Dense(1))\n",
        "randmodel.summary()"
      ],
      "execution_count": 8,
      "outputs": [
        {
          "output_type": "stream",
          "text": [
            "Model: \"sequential\"\n",
            "_________________________________________________________________\n",
            "Layer (type)                 Output Shape              Param #   \n",
            "=================================================================\n",
            "dense (Dense)                (None, 100)               600       \n",
            "_________________________________________________________________\n",
            "dense_1 (Dense)              (None, 100)               10100     \n",
            "_________________________________________________________________\n",
            "dense_2 (Dense)              (None, 100)               10100     \n",
            "_________________________________________________________________\n",
            "dense_3 (Dense)              (None, 100)               10100     \n",
            "_________________________________________________________________\n",
            "dense_4 (Dense)              (None, 1)                 101       \n",
            "=================================================================\n",
            "Total params: 31,001\n",
            "Trainable params: 31,001\n",
            "Non-trainable params: 0\n",
            "_________________________________________________________________\n",
            "time: 700 ms (started: 2021-05-24 07:08:36 +00:00)\n"
          ],
          "name": "stdout"
        }
      ]
    },
    {
      "cell_type": "code",
      "metadata": {
        "colab": {
          "base_uri": "https://localhost:8080/"
        },
        "id": "pyvz7tLg88tA",
        "outputId": "44ba464d-0707-4e89-c183-1cc4e27021c2"
      },
      "source": [
        "randmodel.compile(\n",
        "    optimizer=opt,\n",
        "    loss=\"mse\",\n",
        "    metrics=[\"mse\", \"mae\", \"logcosh\", \"mean_absolute_percentage_error\"],\n",
        ")"
      ],
      "execution_count": 9,
      "outputs": [
        {
          "output_type": "stream",
          "text": [
            "time: 14.7 ms (started: 2021-05-24 07:08:37 +00:00)\n"
          ],
          "name": "stdout"
        }
      ]
    },
    {
      "cell_type": "code",
      "metadata": {
        "colab": {
          "base_uri": "https://localhost:8080/"
        },
        "id": "RT7vHZIW9Cql",
        "outputId": "1fff07b9-a754-4243-839e-331ddcca1680"
      },
      "source": [
        "history = randmodel.fit(\n",
        "    x=X_train,\n",
        "    y=y_train,\n",
        "    validation_data=(X_val, y_val),\n",
        "    #     batch_size=len(X_train),\n",
        "    batch_size=batchz,\n",
        "    epochs=epochs,\n",
        "    verbose=0,\n",
        "    callbacks=[\n",
        "        lml.TrainingToFileLogger(force=True, file=\"randomsampling.log\"),\n",
        "    ],\n",
        ")"
      ],
      "execution_count": 10,
      "outputs": [
        {
          "output_type": "stream",
          "text": [
            "time: 19min 46s (started: 2021-05-24 07:08:37 +00:00)\n"
          ],
          "name": "stdout"
        }
      ]
    },
    {
      "cell_type": "code",
      "metadata": {
        "colab": {
          "base_uri": "https://localhost:8080/",
          "height": 500
        },
        "id": "nySiMr9BSidD",
        "outputId": "041b9a53-7d83-4e94-e14f-e852d7f10fb8"
      },
      "source": [
        "lml.print_training_log(\"randomsampling.log\", onlyloss=True)"
      ],
      "execution_count": 11,
      "outputs": [
        {
          "output_type": "display_data",
          "data": {
            "image/png": "[encoded data removed]",
            "text/plain": [
              "<Figure size 864x576 with 1 Axes>"
            ]
          },
          "metadata": {
            "tags": [],
            "needs_background": "light"
          }
        },
        {
          "output_type": "stream",
          "text": [
            "time: 1.04 s (started: 2021-05-24 07:28:23 +00:00)\n"
          ],
          "name": "stdout"
        }
      ]
    },
    {
      "cell_type": "code",
      "metadata": {
        "colab": {
          "base_uri": "https://localhost:8080/",
          "height": 1000
        },
        "id": "ugiVZv1v91G0",
        "outputId": "e430695e-18d4-40a5-8ef9-e505c19e1678"
      },
      "source": [
        "randfol=\"rand_ndiff\"\n",
        "!mkdir {randfol}\n",
        "maelist = list()\n",
        "errorpd = pd.DataFrame()\n",
        "for diff in np.arange(0.1, 4, 0.1):\n",
        "    a = lml.n2n1diff_search(data_arr, diff, 1, 2)\n",
        "    if len(a) < 1:\n",
        "        continue\n",
        "    testdiffx = a[:, :-1]\n",
        "    testdiffy = a[:, -1]\n",
        "    testdiffy = testdiffy.reshape(len(testdiffy), 1)\n",
        "    testdiffxtr = scaler.transform(testdiffx)\n",
        "    testres = randmodel(testdiffxtr).numpy().astype(float)\n",
        "    maer = np.mean(np.abs(testres-testdiffy))\n",
        "    maelist.append([diff, maer])\n",
        "    metdict = {\"diff\": diff}\n",
        "    metdict.update(lml.get_metric_scores(testres, testdiffy))\n",
        "    add_data = [metdict]\n",
        "    errorpd = errorpd.append(add_data, ignore_index=True, sort=False)\n",
        "    unique, mean = npi.group_by(testdiffx[:, -2:]).mean(np.abs(testres - testdiffy))\n",
        "    # instead of averaging over all values take maxerror at each height,width\n",
        "    # since the higher ndiffs can't really average\n",
        "    _, maxerr = npi.group_by(testdiffx[:, -2:]).max(np.abs(testres - testdiffy))\n",
        "    np.savetxt(f\"{randfol}/{diff:.1f}coo.csv\", unique, delimiter=\",\")\n",
        "    np.savetxt(f\"{randfol}/{diff:.1f}val.csv\", mean, delimiter=\",\")\n",
        "    np.savetxt(f\"{randfol}/{diff:.1f}maxval.csv\", maxerr, delimiter=\",\")\n",
        "errorpd.to_csv(f\"{randfol}/errormetrics.csv\", index_label=\"Index\")\n",
        "!zip -r {randfol}.zip {randfol}\n",
        "files.download(f\"{randfol}.zip\")"
      ],
      "execution_count": 12,
      "outputs": [
        {
          "output_type": "stream",
          "text": [
            "mkdir: cannot create directory ‘rand_ndiff’: File exists\n",
            "updating: rand_ndiff/ (stored 0%)\n",
            "updating: rand_ndiff/2.5val.csv (deflated 54%)\n",
            "updating: rand_ndiff/1.1val.csv (deflated 55%)\n",
            "updating: rand_ndiff/2.3maxval.csv (deflated 54%)\n",
            "updating: rand_ndiff/1.9coo.csv (deflated 94%)\n",
            "updating: rand_ndiff/0.6maxval.csv (deflated 55%)\n",
            "updating: rand_ndiff/2.5coo.csv (deflated 94%)\n",
            "updating: rand_ndiff/2.6coo.csv (deflated 94%)\n",
            "updating: rand_ndiff/1.2coo.csv (deflated 94%)\n",
            "updating: rand_ndiff/1.2maxval.csv (deflated 55%)\n",
            "updating: rand_ndiff/1.7val.csv (deflated 55%)\n",
            "updating: rand_ndiff/2.2coo.csv (deflated 94%)\n",
            "updating: rand_ndiff/1.2val.csv (deflated 55%)\n",
            "updating: rand_ndiff/0.5val.csv (deflated 55%)\n",
            "updating: rand_ndiff/1.4val.csv (deflated 55%)\n",
            "updating: rand_ndiff/1.1coo.csv (deflated 94%)\n",
            "updating: rand_ndiff/0.9val.csv (deflated 55%)\n",
            "updating: rand_ndiff/1.0val.csv (deflated 55%)\n",
            "updating: rand_ndiff/2.0coo.csv (deflated 94%)\n",
            "updating: rand_ndiff/1.7maxval.csv (deflated 55%)\n",
            "updating: rand_ndiff/0.9maxval.csv (deflated 55%)\n",
            "updating: rand_ndiff/2.2val.csv (deflated 55%)\n",
            "updating: rand_ndiff/1.4maxval.csv (deflated 55%)\n",
            "updating: rand_ndiff/1.8val.csv (deflated 55%)\n",
            "updating: rand_ndiff/0.8val.csv (deflated 55%)\n",
            "updating: rand_ndiff/1.6coo.csv (deflated 94%)\n",
            "updating: rand_ndiff/1.5val.csv (deflated 55%)\n",
            "updating: rand_ndiff/2.1coo.csv (deflated 94%)\n",
            "updating: rand_ndiff/2.2maxval.csv (deflated 54%)\n",
            "updating: rand_ndiff/0.7coo.csv (deflated 94%)\n",
            "updating: rand_ndiff/errormetrics.csv (deflated 54%)\n",
            "updating: rand_ndiff/1.5coo.csv (deflated 94%)\n",
            "updating: rand_ndiff/1.4coo.csv (deflated 94%)\n",
            "updating: rand_ndiff/1.6maxval.csv (deflated 55%)\n",
            "updating: rand_ndiff/2.7maxval.csv (deflated 54%)\n",
            "updating: rand_ndiff/0.7maxval.csv (deflated 55%)\n",
            "updating: rand_ndiff/2.4coo.csv (deflated 94%)\n",
            "updating: rand_ndiff/0.8maxval.csv (deflated 55%)\n",
            "updating: rand_ndiff/2.6maxval.csv (deflated 54%)\n",
            "updating: rand_ndiff/0.6coo.csv (deflated 94%)\n",
            "updating: rand_ndiff/1.6val.csv (deflated 55%)\n",
            "updating: rand_ndiff/1.0maxval.csv (deflated 55%)\n",
            "updating: rand_ndiff/2.5maxval.csv (deflated 54%)\n",
            "updating: rand_ndiff/1.3coo.csv (deflated 94%)\n",
            "updating: rand_ndiff/1.1maxval.csv (deflated 55%)\n",
            "updating: rand_ndiff/2.3coo.csv (deflated 94%)\n",
            "updating: rand_ndiff/1.7coo.csv (deflated 94%)\n",
            "updating: rand_ndiff/2.4val.csv (deflated 54%)\n",
            "updating: rand_ndiff/0.5maxval.csv (deflated 55%)\n",
            "updating: rand_ndiff/2.4maxval.csv (deflated 54%)\n",
            "updating: rand_ndiff/2.7val.csv (deflated 54%)\n",
            "updating: rand_ndiff/0.8coo.csv (deflated 94%)\n",
            "updating: rand_ndiff/2.7coo.csv (deflated 94%)\n",
            "updating: rand_ndiff/1.8maxval.csv (deflated 54%)\n",
            "updating: rand_ndiff/0.6val.csv (deflated 55%)\n",
            "updating: rand_ndiff/2.1maxval.csv (deflated 54%)\n",
            "updating: rand_ndiff/2.0val.csv (deflated 55%)\n",
            "updating: rand_ndiff/1.0coo.csv (deflated 94%)\n",
            "updating: rand_ndiff/1.3val.csv (deflated 55%)\n",
            "updating: rand_ndiff/1.8coo.csv (deflated 94%)\n",
            "updating: rand_ndiff/1.9maxval.csv (deflated 55%)\n",
            "updating: rand_ndiff/0.5coo.csv (deflated 94%)\n",
            "updating: rand_ndiff/0.7val.csv (deflated 55%)\n",
            "updating: rand_ndiff/1.5maxval.csv (deflated 55%)\n",
            "updating: rand_ndiff/1.9val.csv (deflated 55%)\n",
            "updating: rand_ndiff/2.6val.csv (deflated 54%)\n",
            "updating: rand_ndiff/0.9coo.csv (deflated 94%)\n",
            "updating: rand_ndiff/2.3val.csv (deflated 54%)\n",
            "updating: rand_ndiff/2.0maxval.csv (deflated 55%)\n",
            "updating: rand_ndiff/1.3maxval.csv (deflated 55%)\n",
            "updating: rand_ndiff/2.1val.csv (deflated 55%)\n"
          ],
          "name": "stdout"
        },
        {
          "output_type": "display_data",
          "data": {
            "application/javascript": [
              "\n",
              "    async function download(id, filename, size) {\n",
              "      if (!google.colab.kernel.accessAllowed) {\n",
              "        return;\n",
              "      }\n",
              "      const div = document.createElement('div');\n",
              "      const label = document.createElement('label');\n",
              "      label.textContent = `Downloading \"${filename}\": `;\n",
              "      div.appendChild(label);\n",
              "      const progress = document.createElement('progress');\n",
              "      progress.max = size;\n",
              "      div.appendChild(progress);\n",
              "      document.body.appendChild(div);\n",
              "\n",
              "      const buffers = [];\n",
              "      let downloaded = 0;\n",
              "\n",
              "      const channel = await google.colab.kernel.comms.open(id);\n",
              "      // Send a message to notify the kernel that we're ready.\n",
              "      channel.send({})\n",
              "\n",
              "      for await (const message of channel.messages) {\n",
              "        // Send a message to notify the kernel that we're ready.\n",
              "        channel.send({})\n",
              "        if (message.buffers) {\n",
              "          for (const buffer of message.buffers) {\n",
              "            buffers.push(buffer);\n",
              "            downloaded += buffer.byteLength;\n",
              "            progress.value = downloaded;\n",
              "          }\n",
              "        }\n",
              "      }\n",
              "      const blob = new Blob(buffers, {type: 'application/binary'});\n",
              "      const a = document.createElement('a');\n",
              "      a.href = window.URL.createObjectURL(blob);\n",
              "      a.download = filename;\n",
              "      div.appendChild(a);\n",
              "      a.click();\n",
              "      div.remove();\n",
              "    }\n",
              "  "
            ],
            "text/plain": [
              "<IPython.core.display.Javascript object>"
            ]
          },
          "metadata": {
            "tags": []
          }
        },
        {
          "output_type": "display_data",
          "data": {
            "application/javascript": [
              "download(\"download_eb200d2c-29cc-462a-aeb2-995299263515\", \"rand_ndiff.zip\", 373369)"
            ],
            "text/plain": [
              "<IPython.core.display.Javascript object>"
            ]
          },
          "metadata": {
            "tags": []
          }
        },
        {
          "output_type": "stream",
          "text": [
            "time: 705 ms (started: 2021-05-24 07:28:24 +00:00)\n"
          ],
          "name": "stdout"
        }
      ]
    },
    {
      "cell_type": "code",
      "metadata": {
        "colab": {
          "base_uri": "https://localhost:8080/"
        },
        "id": "pDe9TFEGTPPE",
        "outputId": "46f1486f-82c2-4d3d-dbf6-30b127e2d92d"
      },
      "source": [
        "# sample randomly at each different absolute n2-n1\n",
        "totsam = list()\n",
        "for diff in np.arange(0.1, 4, 0.1):\n",
        "    a = lml.n2n1diff_search(data_arr, diff, 1, 2)\n",
        "    if len(a) < 1:\n",
        "        continue\n",
        "    # print(diff, len(a))\n",
        "    sam = lml.get_np_sample(a, sample=70)\n",
        "    totsam.append(sam)\n",
        "totsam_arr = np.concatenate(totsam, axis=0)\n",
        "totsam_arr.shape"
      ],
      "execution_count": 13,
      "outputs": [
        {
          "output_type": "execute_result",
          "data": {
            "text/plain": [
              "(1610, 6)"
            ]
          },
          "metadata": {
            "tags": []
          },
          "execution_count": 13
        },
        {
          "output_type": "stream",
          "text": [
            "time: 58.4 ms (started: 2021-05-24 07:28:25 +00:00)\n"
          ],
          "name": "stdout"
        }
      ]
    },
    {
      "cell_type": "code",
      "metadata": {
        "colab": {
          "base_uri": "https://localhost:8080/",
          "height": 635
        },
        "id": "uRyQ3DwvTZVY",
        "outputId": "ea3a3f8a-a3fd-431b-ddb3-88f8132ca65c"
      },
      "source": [
        "lml.np_hist(totsam_arr)"
      ],
      "execution_count": 14,
      "outputs": [
        {
          "output_type": "execute_result",
          "data": {
            "text/plain": [
              "array([[<matplotlib.axes._subplots.AxesSubplot object at 0x7fdd7dcd9fd0>,\n",
              "        <matplotlib.axes._subplots.AxesSubplot object at 0x7fdd7dcee810>],\n",
              "       [<matplotlib.axes._subplots.AxesSubplot object at 0x7fdd7dc41490>,\n",
              "        <matplotlib.axes._subplots.AxesSubplot object at 0x7fdd7dbe2a10>],\n",
              "       [<matplotlib.axes._subplots.AxesSubplot object at 0x7fdd7dc13f90>,\n",
              "        <matplotlib.axes._subplots.AxesSubplot object at 0x7fdd7dbce550>]],\n",
              "      dtype=object)"
            ]
          },
          "metadata": {
            "tags": []
          },
          "execution_count": 14
        },
        {
          "output_type": "display_data",
          "data": {
            "image/png": "[encoded data removed]",
            "text/plain": [
              "<Figure size 864x576 with 6 Axes>"
            ]
          },
          "metadata": {
            "tags": [],
            "needs_background": "light"
          }
        },
        {
          "output_type": "stream",
          "text": [
            "time: 1.46 s (started: 2021-05-24 07:28:25 +00:00)\n"
          ],
          "name": "stdout"
        }
      ]
    },
    {
      "cell_type": "code",
      "metadata": {
        "colab": {
          "base_uri": "https://localhost:8080/"
        },
        "id": "pO6inYzUCNRX",
        "outputId": "cd4bd0cf-43c3-4e38-fe0d-aa7b0d78b9af"
      },
      "source": [
        "#define training data and scaling\n",
        "X_train = totsam_arr[:,:-1]\n",
        "y_train = totsam_arr[:,-1]\n",
        "val_arr = lml.get_np_sample(data_arr, sample=200)\n",
        "X_val = val_arr[:,:-1]\n",
        "y_val = val_arr[:,-1]\n",
        "scaler = MinMaxScaler()\n",
        "X_train = scaler.fit_transform(X_train)\n",
        "X_val = scaler.transform(X_val)"
      ],
      "execution_count": 15,
      "outputs": [
        {
          "output_type": "stream",
          "text": [
            "time: 6.94 ms (started: 2021-05-24 07:28:26 +00:00)\n"
          ],
          "name": "stdout"
        }
      ]
    },
    {
      "cell_type": "code",
      "metadata": {
        "colab": {
          "base_uri": "https://localhost:8080/"
        },
        "id": "NgvVfC64HIS-",
        "outputId": "efc9cf67-0011-44a9-c7cb-ee964bc58afe"
      },
      "source": [
        "\n",
        "opt = tf.keras.optimizers.Adam(learning_rate=lr, amsgrad=True)\n",
        "l1reg = tf.keras.regularizers.L1L2(l1=0.000001, l2=0.000001)\n",
        "# 4 layers with 400 neurons each\n",
        "unifmodel = tf.keras.Sequential()\n",
        "unifmodel.add(tf.keras.Input(shape=input_shape))\n",
        "unifmodel.add(tf.keras.layers.Dense(100, activation=\"relu\", kernel_regularizer=l1reg))\n",
        "unifmodel.add(tf.keras.layers.Dense(100, activation=\"relu\", kernel_regularizer=l1reg))\n",
        "unifmodel.add(tf.keras.layers.Dense(100, activation=\"relu\", kernel_regularizer=l1reg))\n",
        "unifmodel.add(tf.keras.layers.Dense(100, activation=\"relu\", kernel_regularizer=l1reg))\n",
        "unifmodel.add(tf.keras.layers.Dense(1))\n",
        "unifmodel.summary()\n",
        "unifmodel.compile(\n",
        "    optimizer=opt,\n",
        "    loss=\"mse\",\n",
        "    metrics=[\"mse\", \"mae\", \"logcosh\", \"mean_absolute_percentage_error\"],\n",
        ")\n",
        "\n",
        "history = unifmodel.fit(\n",
        "    x=X_train,\n",
        "    y=y_train,\n",
        "    validation_data=(X_val, y_val),\n",
        "    #     batch_size=len(X_train),\n",
        "    batch_size=batchz,\n",
        "    epochs=epochs,\n",
        "    verbose=0,\n",
        "    callbacks=[\n",
        "        lml.TrainingToFileLogger(force=True, file=\"unifsampling.log\"),\n",
        "    ],\n",
        ")"
      ],
      "execution_count": 16,
      "outputs": [
        {
          "output_type": "stream",
          "text": [
            "Model: \"sequential_1\"\n",
            "_________________________________________________________________\n",
            "Layer (type)                 Output Shape              Param #   \n",
            "=================================================================\n",
            "dense_5 (Dense)              (None, 100)               600       \n",
            "_________________________________________________________________\n",
            "dense_6 (Dense)              (None, 100)               10100     \n",
            "_________________________________________________________________\n",
            "dense_7 (Dense)              (None, 100)               10100     \n",
            "_________________________________________________________________\n",
            "dense_8 (Dense)              (None, 100)               10100     \n",
            "_________________________________________________________________\n",
            "dense_9 (Dense)              (None, 1)                 101       \n",
            "=================================================================\n",
            "Total params: 31,001\n",
            "Trainable params: 31,001\n",
            "Non-trainable params: 0\n",
            "_________________________________________________________________\n",
            "time: 24min 47s (started: 2021-05-24 07:28:26 +00:00)\n"
          ],
          "name": "stdout"
        }
      ]
    },
    {
      "cell_type": "code",
      "metadata": {
        "id": "_l7_QQyqVfF6",
        "colab": {
          "base_uri": "https://localhost:8080/",
          "height": 500
        },
        "outputId": "486dca02-8d70-49a3-83d6-9bda3576a8d2"
      },
      "source": [
        "lml.print_training_log(\"unifsampling.log\", onlyloss=True)"
      ],
      "execution_count": 17,
      "outputs": [
        {
          "output_type": "display_data",
          "data": {
            "image/png": "[encoded data removed]",
            "text/plain": [
              "<Figure size 864x576 with 1 Axes>"
            ]
          },
          "metadata": {
            "tags": [],
            "needs_background": "light"
          }
        },
        {
          "output_type": "stream",
          "text": [
            "time: 1.02 s (started: 2021-05-24 07:53:14 +00:00)\n"
          ],
          "name": "stdout"
        }
      ]
    },
    {
      "cell_type": "code",
      "metadata": {
        "id": "FDIbd7SPVfOy",
        "colab": {
          "base_uri": "https://localhost:8080/",
          "height": 1000
        },
        "outputId": "9eaba425-903f-4103-a817-3f6094729f91"
      },
      "source": [
        "randfol=\"unif_ndiff\"\n",
        "!mkdir {randfol}\n",
        "maelist = list()\n",
        "errorpd = pd.DataFrame()\n",
        "for diff in np.arange(0.1, 4, 0.1):\n",
        "    a = lml.n2n1diff_search(data_arr, diff, 1, 2)\n",
        "    if len(a) < 1:\n",
        "        continue\n",
        "    testdiffx = a[:, :-1]\n",
        "    testdiffy = a[:, -1]\n",
        "    testdiffy = testdiffy.reshape(len(testdiffy), 1)\n",
        "    testdiffxtr = scaler.transform(testdiffx)\n",
        "    testres = unifmodel(testdiffxtr).numpy().astype(float)\n",
        "    maer = np.mean(np.abs(testres-testdiffy))\n",
        "    maelist.append([diff, maer])\n",
        "    metdict = {\"diff\": diff}\n",
        "    metdict.update(lml.get_metric_scores(testres, testdiffy))\n",
        "    add_data = [metdict]\n",
        "    errorpd = errorpd.append(add_data, ignore_index=True, sort=False)\n",
        "    unique, mean = npi.group_by(testdiffx[:, -2:]).mean(np.abs(testres - testdiffy))\n",
        "    # instead of averaging over all values take maxerror at each height,width\n",
        "    # since the higher ndiffs can't really average\n",
        "    _, maxerr = npi.group_by(testdiffx[:, -2:]).max(np.abs(testres - testdiffy))\n",
        "    np.savetxt(f\"{randfol}/{diff:.1f}coo.csv\", unique, delimiter=\",\")\n",
        "    np.savetxt(f\"{randfol}/{diff:.1f}val.csv\", mean, delimiter=\",\")\n",
        "    np.savetxt(f\"{randfol}/{diff:.1f}maxval.csv\", maxerr, delimiter=\",\")\n",
        "errorpd.to_csv(f\"{randfol}/errormetrics.csv\", index_label=\"Index\")\n",
        "!zip -r {randfol}.zip {randfol}\n",
        "files.download(f\"{randfol}.zip\")"
      ],
      "execution_count": 18,
      "outputs": [
        {
          "output_type": "stream",
          "text": [
            "mkdir: cannot create directory ‘unif_ndiff’: File exists\n",
            "updating: unif_ndiff/ (stored 0%)\n",
            "updating: unif_ndiff/2.5val.csv (deflated 55%)\n",
            "updating: unif_ndiff/1.1val.csv (deflated 55%)\n",
            "updating: unif_ndiff/2.3maxval.csv (deflated 55%)\n",
            "updating: unif_ndiff/1.9coo.csv (deflated 94%)\n",
            "updating: unif_ndiff/0.6maxval.csv (deflated 55%)\n",
            "updating: unif_ndiff/2.5coo.csv (deflated 94%)\n",
            "updating: unif_ndiff/2.6coo.csv (deflated 94%)\n",
            "updating: unif_ndiff/1.2coo.csv (deflated 94%)\n",
            "updating: unif_ndiff/1.2maxval.csv (deflated 56%)\n",
            "updating: unif_ndiff/1.7val.csv (deflated 55%)\n",
            "updating: unif_ndiff/2.2coo.csv (deflated 94%)\n",
            "updating: unif_ndiff/1.2val.csv (deflated 55%)\n",
            "updating: unif_ndiff/0.5val.csv (deflated 55%)\n",
            "updating: unif_ndiff/1.4val.csv (deflated 55%)\n",
            "updating: unif_ndiff/1.1coo.csv (deflated 94%)\n",
            "updating: unif_ndiff/0.9val.csv (deflated 55%)\n",
            "updating: unif_ndiff/1.0val.csv (deflated 55%)\n",
            "updating: unif_ndiff/2.0coo.csv (deflated 94%)\n",
            "updating: unif_ndiff/1.7maxval.csv (deflated 55%)\n",
            "updating: unif_ndiff/0.9maxval.csv (deflated 55%)\n",
            "updating: unif_ndiff/2.2val.csv (deflated 55%)\n",
            "updating: unif_ndiff/1.4maxval.csv (deflated 55%)\n",
            "updating: unif_ndiff/1.8val.csv (deflated 55%)\n",
            "updating: unif_ndiff/0.8val.csv (deflated 55%)\n",
            "updating: unif_ndiff/1.6coo.csv (deflated 94%)\n",
            "updating: unif_ndiff/1.5val.csv (deflated 55%)\n",
            "updating: unif_ndiff/2.1coo.csv (deflated 94%)\n",
            "updating: unif_ndiff/2.2maxval.csv (deflated 55%)\n",
            "updating: unif_ndiff/0.7coo.csv (deflated 94%)\n",
            "updating: unif_ndiff/errormetrics.csv (deflated 54%)\n",
            "updating: unif_ndiff/1.5coo.csv (deflated 94%)\n",
            "updating: unif_ndiff/1.4coo.csv (deflated 94%)\n",
            "updating: unif_ndiff/1.6maxval.csv (deflated 55%)\n",
            "updating: unif_ndiff/2.7maxval.csv (deflated 54%)\n",
            "updating: unif_ndiff/0.7maxval.csv (deflated 55%)\n",
            "updating: unif_ndiff/2.4coo.csv (deflated 94%)\n",
            "updating: unif_ndiff/0.8maxval.csv (deflated 55%)\n",
            "updating: unif_ndiff/2.6maxval.csv (deflated 54%)\n",
            "updating: unif_ndiff/0.6coo.csv (deflated 94%)\n",
            "updating: unif_ndiff/1.6val.csv (deflated 55%)\n",
            "updating: unif_ndiff/1.0maxval.csv (deflated 56%)\n",
            "updating: unif_ndiff/2.5maxval.csv (deflated 55%)\n",
            "updating: unif_ndiff/1.3coo.csv (deflated 94%)\n",
            "updating: unif_ndiff/1.1maxval.csv (deflated 56%)\n",
            "updating: unif_ndiff/2.3coo.csv (deflated 94%)\n",
            "updating: unif_ndiff/1.7coo.csv (deflated 94%)\n",
            "updating: unif_ndiff/2.4val.csv (deflated 55%)\n",
            "updating: unif_ndiff/0.5maxval.csv (deflated 55%)\n",
            "updating: unif_ndiff/2.4maxval.csv (deflated 54%)\n",
            "updating: unif_ndiff/2.7val.csv (deflated 54%)\n",
            "updating: unif_ndiff/0.8coo.csv (deflated 94%)\n",
            "updating: unif_ndiff/2.7coo.csv (deflated 94%)\n",
            "updating: unif_ndiff/1.8maxval.csv (deflated 55%)\n",
            "updating: unif_ndiff/0.6val.csv (deflated 55%)\n",
            "updating: unif_ndiff/2.1maxval.csv (deflated 55%)\n",
            "updating: unif_ndiff/2.0val.csv (deflated 55%)\n",
            "updating: unif_ndiff/1.0coo.csv (deflated 94%)\n",
            "updating: unif_ndiff/1.3val.csv (deflated 55%)\n",
            "updating: unif_ndiff/1.8coo.csv (deflated 94%)\n",
            "updating: unif_ndiff/1.9maxval.csv (deflated 55%)\n",
            "updating: unif_ndiff/0.5coo.csv (deflated 94%)\n",
            "updating: unif_ndiff/0.7val.csv (deflated 55%)\n",
            "updating: unif_ndiff/1.5maxval.csv (deflated 55%)\n",
            "updating: unif_ndiff/1.9val.csv (deflated 55%)\n",
            "updating: unif_ndiff/2.6val.csv (deflated 54%)\n",
            "updating: unif_ndiff/0.9coo.csv (deflated 94%)\n",
            "updating: unif_ndiff/2.3val.csv (deflated 55%)\n",
            "updating: unif_ndiff/2.0maxval.csv (deflated 55%)\n",
            "updating: unif_ndiff/1.3maxval.csv (deflated 55%)\n",
            "updating: unif_ndiff/2.1val.csv (deflated 55%)\n"
          ],
          "name": "stdout"
        },
        {
          "output_type": "display_data",
          "data": {
            "application/javascript": [
              "\n",
              "    async function download(id, filename, size) {\n",
              "      if (!google.colab.kernel.accessAllowed) {\n",
              "        return;\n",
              "      }\n",
              "      const div = document.createElement('div');\n",
              "      const label = document.createElement('label');\n",
              "      label.textContent = `Downloading \"${filename}\": `;\n",
              "      div.appendChild(label);\n",
              "      const progress = document.createElement('progress');\n",
              "      progress.max = size;\n",
              "      div.appendChild(progress);\n",
              "      document.body.appendChild(div);\n",
              "\n",
              "      const buffers = [];\n",
              "      let downloaded = 0;\n",
              "\n",
              "      const channel = await google.colab.kernel.comms.open(id);\n",
              "      // Send a message to notify the kernel that we're ready.\n",
              "      channel.send({})\n",
              "\n",
              "      for await (const message of channel.messages) {\n",
              "        // Send a message to notify the kernel that we're ready.\n",
              "        channel.send({})\n",
              "        if (message.buffers) {\n",
              "          for (const buffer of message.buffers) {\n",
              "            buffers.push(buffer);\n",
              "            downloaded += buffer.byteLength;\n",
              "            progress.value = downloaded;\n",
              "          }\n",
              "        }\n",
              "      }\n",
              "      const blob = new Blob(buffers, {type: 'application/binary'});\n",
              "      const a = document.createElement('a');\n",
              "      a.href = window.URL.createObjectURL(blob);\n",
              "      a.download = filename;\n",
              "      div.appendChild(a);\n",
              "      a.click();\n",
              "      div.remove();\n",
              "    }\n",
              "  "
            ],
            "text/plain": [
              "<IPython.core.display.Javascript object>"
            ]
          },
          "metadata": {
            "tags": []
          }
        },
        {
          "output_type": "display_data",
          "data": {
            "application/javascript": [
              "download(\"download_b13c3506-0f1d-434d-9ae2-7a38d34e3c76\", \"unif_ndiff.zip\", 371634)"
            ],
            "text/plain": [
              "<IPython.core.display.Javascript object>"
            ]
          },
          "metadata": {
            "tags": []
          }
        },
        {
          "output_type": "stream",
          "text": [
            "time: 753 ms (started: 2021-05-24 07:53:15 +00:00)\n"
          ],
          "name": "stdout"
        }
      ]
    },
    {
      "cell_type": "code",
      "metadata": {
        "colab": {
          "base_uri": "https://localhost:8080/",
          "height": 635
        },
        "id": "HoIRyHFrcb7s",
        "outputId": "ace1826d-0428-45e8-d998-71d8f091a7e8"
      },
      "source": [
        "index = npi.as_index(data_arr[:,-3:-1])\n",
        "minndiff = min(np.abs(data_arr[:,2]-data_arr[:,1]))\n",
        "maxndiff = max(np.abs(data_arr[:,2]-data_arr[:,1]))\n",
        "ndiffs = list(np.arange(minndiff, maxndiff+0.05,0.1))\n",
        "lndiffs = len(ndiffs) -1\n",
        "unique_keys = index.unique\n",
        "totsam = list()\n",
        "idx = 0\n",
        "for i in range(3):\n",
        "    for h, w in unique_keys:\n",
        "        #select data with h, w\n",
        "        a = data_arr[np.logical_and(data_arr[:,-3]==h,data_arr[:,-2]==w)]\n",
        "        #select current ndiff\n",
        "        cidx = idx % lndiffs\n",
        "        b = lml.n2n1diff_search(a, np.around(ndiffs[cidx],1), 1, 2)\n",
        "        sam = lml.get_np_sample(b, sample=1)\n",
        "        totsam.append(sam)\n",
        "        idx+=1\n",
        "        #1 data  point\n",
        "        #loop again\n",
        "totsam_arr = np.concatenate(totsam, axis=0)\n",
        "totsam_arr.shape\n",
        "lml.np_hist(totsam_arr)"
      ],
      "execution_count": 19,
      "outputs": [
        {
          "output_type": "execute_result",
          "data": {
            "text/plain": [
              "array([[<matplotlib.axes._subplots.AxesSubplot object at 0x7fdd7cd040d0>,\n",
              "        <matplotlib.axes._subplots.AxesSubplot object at 0x7fdd7cd4ba50>],\n",
              "       [<matplotlib.axes._subplots.AxesSubplot object at 0x7fdd7cd17ad0>,\n",
              "        <matplotlib.axes._subplots.AxesSubplot object at 0x7fdd7ccdd590>],\n",
              "       [<matplotlib.axes._subplots.AxesSubplot object at 0x7fdd7cc4fb10>,\n",
              "        <matplotlib.axes._subplots.AxesSubplot object at 0x7fdd7cc0b0d0>]],\n",
              "      dtype=object)"
            ]
          },
          "metadata": {
            "tags": []
          },
          "execution_count": 19
        },
        {
          "output_type": "display_data",
          "data": {
            "image/png": "[encoded data removed]",
            "text/plain": [
              "<Figure size 864x576 with 6 Axes>"
            ]
          },
          "metadata": {
            "tags": [],
            "needs_background": "light"
          }
        },
        {
          "output_type": "stream",
          "text": [
            "time: 3.62 s (started: 2021-05-24 07:53:16 +00:00)\n"
          ],
          "name": "stdout"
        }
      ]
    },
    {
      "cell_type": "code",
      "metadata": {
        "colab": {
          "base_uri": "https://localhost:8080/"
        },
        "id": "7sibczXCh6Ix",
        "outputId": "2a09240c-2c60-4d80-ea02-ea318f6f9d05"
      },
      "source": [
        "#define training data and scaling\n",
        "X = totsam_arr[:,:-1]\n",
        "y = totsam_arr[:,-1]\n",
        "X_train, X_val, y_train, y_val = lml.train_val_split(X, y, test_size=200)\n",
        "# X_train = totsam_arr[:,:-1]\n",
        "# y_train = totsam_arr[:,-1]\n",
        "# val_arr = lml.get_np_sample(data_arr, sample=200)\n",
        "# X_val = val_arr[:,:-1]\n",
        "# y_val = val_arr[:,-1]\n",
        "scaler = MinMaxScaler()\n",
        "X_train = scaler.fit_transform(X_train)\n",
        "X_val = scaler.transform(X_val)"
      ],
      "execution_count": 20,
      "outputs": [
        {
          "output_type": "stream",
          "text": [
            "time: 5.47 ms (started: 2021-05-24 07:53:19 +00:00)\n"
          ],
          "name": "stdout"
        }
      ]
    },
    {
      "cell_type": "code",
      "metadata": {
        "colab": {
          "base_uri": "https://localhost:8080/"
        },
        "id": "IrtOJrvEgc6G",
        "outputId": "5cb52cb7-dd45-4d24-b738-0e81165bb6b3"
      },
      "source": [
        "\n",
        "opt = tf.keras.optimizers.Adam(learning_rate=lr, amsgrad=True)\n",
        "l1reg = tf.keras.regularizers.L1L2(l1=0.000001, l2=0.000001)\n",
        "# 4 layers with 400 neurons each\n",
        "cyclemodel = tf.keras.Sequential()\n",
        "cyclemodel.add(tf.keras.Input(shape=input_shape))\n",
        "cyclemodel.add(tf.keras.layers.Dense(100, activation=\"relu\", kernel_regularizer=l1reg))\n",
        "cyclemodel.add(tf.keras.layers.Dense(100, activation=\"relu\", kernel_regularizer=l1reg))\n",
        "cyclemodel.add(tf.keras.layers.Dense(100, activation=\"relu\", kernel_regularizer=l1reg))\n",
        "cyclemodel.add(tf.keras.layers.Dense(100, activation=\"relu\", kernel_regularizer=l1reg))\n",
        "cyclemodel.add(tf.keras.layers.Dense(1))\n",
        "cyclemodel.summary()\n",
        "cyclemodel.compile(\n",
        "    optimizer=opt,\n",
        "    loss=\"mse\",\n",
        "    metrics=[\"mse\", \"mae\", \"logcosh\", \"mean_absolute_percentage_error\"],\n",
        ")\n",
        "\n",
        "history = cyclemodel.fit(\n",
        "    x=X_train,\n",
        "    y=y_train,\n",
        "    validation_data=(X_val, y_val),\n",
        "    #     batch_size=len(X_train),\n",
        "    batch_size=batchz,\n",
        "    epochs=epochs,\n",
        "    verbose=0,\n",
        "    callbacks=[\n",
        "        lml.TrainingToFileLogger(force=True, file=\"cyclesampling.log\"),\n",
        "    ],\n",
        ")"
      ],
      "execution_count": 21,
      "outputs": [
        {
          "output_type": "stream",
          "text": [
            "Model: \"sequential_2\"\n",
            "_________________________________________________________________\n",
            "Layer (type)                 Output Shape              Param #   \n",
            "=================================================================\n",
            "dense_10 (Dense)             (None, 100)               600       \n",
            "_________________________________________________________________\n",
            "dense_11 (Dense)             (None, 100)               10100     \n",
            "_________________________________________________________________\n",
            "dense_12 (Dense)             (None, 100)               10100     \n",
            "_________________________________________________________________\n",
            "dense_13 (Dense)             (None, 100)               10100     \n",
            "_________________________________________________________________\n",
            "dense_14 (Dense)             (None, 1)                 101       \n",
            "=================================================================\n",
            "Total params: 31,001\n",
            "Trainable params: 31,001\n",
            "Non-trainable params: 0\n",
            "_________________________________________________________________\n",
            "time: 24min 52s (started: 2021-05-24 07:53:19 +00:00)\n"
          ],
          "name": "stdout"
        }
      ]
    },
    {
      "cell_type": "code",
      "metadata": {
        "colab": {
          "base_uri": "https://localhost:8080/",
          "height": 501
        },
        "id": "-RNeeAK8gtsS",
        "outputId": "ea52ebbf-5e1e-4d06-9d79-af073e96439a"
      },
      "source": [
        "lml.print_training_log(\"cyclesampling.log\", onlyloss=True)"
      ],
      "execution_count": 22,
      "outputs": [
        {
          "output_type": "display_data",
          "data": {
            "image/png": "[encoded data removed]",
            "text/plain": [
              "<Figure size 864x576 with 1 Axes>"
            ]
          },
          "metadata": {
            "tags": [],
            "needs_background": "light"
          }
        },
        {
          "output_type": "stream",
          "text": [
            "time: 1.03 s (started: 2021-05-24 08:18:11 +00:00)\n"
          ],
          "name": "stdout"
        }
      ]
    },
    {
      "cell_type": "code",
      "metadata": {
        "colab": {
          "base_uri": "https://localhost:8080/",
          "height": 1000
        },
        "id": "57CKLh37cfYI",
        "outputId": "51d643dd-ca05-415f-875f-31f846bcd3d8"
      },
      "source": [
        "randfol=\"cycle_ndiff\"\n",
        "!mkdir {randfol}\n",
        "maelist = list()\n",
        "errorpd = pd.DataFrame()\n",
        "for diff in np.arange(0.1, 4, 0.1):\n",
        "    a = lml.n2n1diff_search(data_arr, diff, 1, 2)\n",
        "    if len(a) < 1:\n",
        "        continue\n",
        "    testdiffx = a[:, :-1]\n",
        "    testdiffy = a[:, -1]\n",
        "    testdiffy = testdiffy.reshape(len(testdiffy), 1)\n",
        "    testdiffxtr = scaler.transform(testdiffx)\n",
        "    testres = cyclemodel(testdiffxtr).numpy().astype(float)\n",
        "    maer = np.mean(np.abs(testres-testdiffy))\n",
        "    maelist.append([diff, maer])\n",
        "    metdict = {\"diff\": diff}\n",
        "    metdict.update(lml.get_metric_scores(testres, testdiffy))\n",
        "    add_data = [metdict]\n",
        "    errorpd = errorpd.append(add_data, ignore_index=True, sort=False)\n",
        "    unique, mean = npi.group_by(testdiffx[:, -2:]).mean(np.abs(testres - testdiffy))\n",
        "    # instead of averaging over all values take maxerror at each height,width\n",
        "    # since the higher ndiffs can't really average\n",
        "    _, maxerr = npi.group_by(testdiffx[:, -2:]).max(np.abs(testres - testdiffy))\n",
        "    np.savetxt(f\"{randfol}/{diff:.1f}coo.csv\", unique, delimiter=\",\")\n",
        "    np.savetxt(f\"{randfol}/{diff:.1f}val.csv\", mean, delimiter=\",\")\n",
        "    np.savetxt(f\"{randfol}/{diff:.1f}maxval.csv\", maxerr, delimiter=\",\")\n",
        "errorpd.to_csv(f\"{randfol}/errormetrics.csv\", index_label=\"Index\")\n",
        "!zip -r {randfol}.zip {randfol}\n",
        "files.download(f\"{randfol}.zip\")"
      ],
      "execution_count": 23,
      "outputs": [
        {
          "output_type": "stream",
          "text": [
            "mkdir: cannot create directory ‘cycle_ndiff’: File exists\n",
            "updating: cycle_ndiff/ (stored 0%)\n",
            "updating: cycle_ndiff/2.5val.csv (deflated 54%)\n",
            "updating: cycle_ndiff/1.1val.csv (deflated 55%)\n",
            "updating: cycle_ndiff/2.3maxval.csv (deflated 55%)\n",
            "updating: cycle_ndiff/1.9coo.csv (deflated 94%)\n",
            "updating: cycle_ndiff/0.6maxval.csv (deflated 56%)\n",
            "updating: cycle_ndiff/2.5coo.csv (deflated 94%)\n",
            "updating: cycle_ndiff/2.6coo.csv (deflated 94%)\n",
            "updating: cycle_ndiff/1.2coo.csv (deflated 94%)\n",
            "updating: cycle_ndiff/1.2maxval.csv (deflated 55%)\n",
            "updating: cycle_ndiff/1.7val.csv (deflated 55%)\n",
            "updating: cycle_ndiff/2.2coo.csv (deflated 94%)\n",
            "updating: cycle_ndiff/1.2val.csv (deflated 55%)\n",
            "updating: cycle_ndiff/0.5val.csv (deflated 55%)\n",
            "updating: cycle_ndiff/1.4val.csv (deflated 55%)\n",
            "updating: cycle_ndiff/1.1coo.csv (deflated 94%)\n",
            "updating: cycle_ndiff/0.9val.csv (deflated 55%)\n",
            "updating: cycle_ndiff/1.0val.csv (deflated 55%)\n",
            "updating: cycle_ndiff/2.0coo.csv (deflated 94%)\n",
            "updating: cycle_ndiff/1.7maxval.csv (deflated 55%)\n",
            "updating: cycle_ndiff/0.9maxval.csv (deflated 56%)\n",
            "updating: cycle_ndiff/2.2val.csv (deflated 55%)\n",
            "updating: cycle_ndiff/1.4maxval.csv (deflated 55%)\n",
            "updating: cycle_ndiff/1.8val.csv (deflated 55%)\n",
            "updating: cycle_ndiff/0.8val.csv (deflated 55%)\n",
            "updating: cycle_ndiff/1.6coo.csv (deflated 94%)\n",
            "updating: cycle_ndiff/1.5val.csv (deflated 55%)\n",
            "updating: cycle_ndiff/2.1coo.csv (deflated 94%)\n",
            "updating: cycle_ndiff/2.2maxval.csv (deflated 54%)\n",
            "updating: cycle_ndiff/0.7coo.csv (deflated 94%)\n",
            "updating: cycle_ndiff/errormetrics.csv (deflated 54%)\n",
            "updating: cycle_ndiff/1.5coo.csv (deflated 94%)\n",
            "updating: cycle_ndiff/1.4coo.csv (deflated 94%)\n",
            "updating: cycle_ndiff/1.6maxval.csv (deflated 55%)\n",
            "updating: cycle_ndiff/2.7maxval.csv (deflated 54%)\n",
            "updating: cycle_ndiff/0.7maxval.csv (deflated 56%)\n",
            "updating: cycle_ndiff/2.4coo.csv (deflated 94%)\n",
            "updating: cycle_ndiff/0.8maxval.csv (deflated 56%)\n",
            "updating: cycle_ndiff/2.6maxval.csv (deflated 54%)\n",
            "updating: cycle_ndiff/0.6coo.csv (deflated 94%)\n",
            "updating: cycle_ndiff/1.6val.csv (deflated 55%)\n",
            "updating: cycle_ndiff/1.0maxval.csv (deflated 56%)\n",
            "updating: cycle_ndiff/2.5maxval.csv (deflated 54%)\n",
            "updating: cycle_ndiff/1.3coo.csv (deflated 94%)\n",
            "updating: cycle_ndiff/1.1maxval.csv (deflated 56%)\n",
            "updating: cycle_ndiff/2.3coo.csv (deflated 94%)\n",
            "updating: cycle_ndiff/1.7coo.csv (deflated 94%)\n",
            "updating: cycle_ndiff/2.4val.csv (deflated 54%)\n",
            "updating: cycle_ndiff/0.5maxval.csv (deflated 56%)\n",
            "updating: cycle_ndiff/2.4maxval.csv (deflated 55%)\n",
            "updating: cycle_ndiff/2.7val.csv (deflated 54%)\n",
            "updating: cycle_ndiff/0.8coo.csv (deflated 94%)\n",
            "updating: cycle_ndiff/2.7coo.csv (deflated 94%)\n",
            "updating: cycle_ndiff/1.8maxval.csv (deflated 54%)\n",
            "updating: cycle_ndiff/0.6val.csv (deflated 55%)\n",
            "updating: cycle_ndiff/2.1maxval.csv (deflated 54%)\n",
            "updating: cycle_ndiff/2.0val.csv (deflated 55%)\n",
            "updating: cycle_ndiff/1.0coo.csv (deflated 94%)\n",
            "updating: cycle_ndiff/1.3val.csv (deflated 55%)\n",
            "updating: cycle_ndiff/1.8coo.csv (deflated 94%)\n",
            "updating: cycle_ndiff/1.9maxval.csv (deflated 55%)\n",
            "updating: cycle_ndiff/0.5coo.csv (deflated 94%)\n",
            "updating: cycle_ndiff/0.7val.csv (deflated 55%)\n",
            "updating: cycle_ndiff/1.5maxval.csv (deflated 55%)\n",
            "updating: cycle_ndiff/1.9val.csv (deflated 55%)\n",
            "updating: cycle_ndiff/2.6val.csv (deflated 54%)\n",
            "updating: cycle_ndiff/0.9coo.csv (deflated 94%)\n",
            "updating: cycle_ndiff/2.3val.csv (deflated 55%)\n",
            "updating: cycle_ndiff/2.0maxval.csv (deflated 55%)\n",
            "updating: cycle_ndiff/1.3maxval.csv (deflated 55%)\n",
            "updating: cycle_ndiff/2.1val.csv (deflated 55%)\n"
          ],
          "name": "stdout"
        },
        {
          "output_type": "display_data",
          "data": {
            "application/javascript": [
              "\n",
              "    async function download(id, filename, size) {\n",
              "      if (!google.colab.kernel.accessAllowed) {\n",
              "        return;\n",
              "      }\n",
              "      const div = document.createElement('div');\n",
              "      const label = document.createElement('label');\n",
              "      label.textContent = `Downloading \"${filename}\": `;\n",
              "      div.appendChild(label);\n",
              "      const progress = document.createElement('progress');\n",
              "      progress.max = size;\n",
              "      div.appendChild(progress);\n",
              "      document.body.appendChild(div);\n",
              "\n",
              "      const buffers = [];\n",
              "      let downloaded = 0;\n",
              "\n",
              "      const channel = await google.colab.kernel.comms.open(id);\n",
              "      // Send a message to notify the kernel that we're ready.\n",
              "      channel.send({})\n",
              "\n",
              "      for await (const message of channel.messages) {\n",
              "        // Send a message to notify the kernel that we're ready.\n",
              "        channel.send({})\n",
              "        if (message.buffers) {\n",
              "          for (const buffer of message.buffers) {\n",
              "            buffers.push(buffer);\n",
              "            downloaded += buffer.byteLength;\n",
              "            progress.value = downloaded;\n",
              "          }\n",
              "        }\n",
              "      }\n",
              "      const blob = new Blob(buffers, {type: 'application/binary'});\n",
              "      const a = document.createElement('a');\n",
              "      a.href = window.URL.createObjectURL(blob);\n",
              "      a.download = filename;\n",
              "      div.appendChild(a);\n",
              "      a.click();\n",
              "      div.remove();\n",
              "    }\n",
              "  "
            ],
            "text/plain": [
              "<IPython.core.display.Javascript object>"
            ]
          },
          "metadata": {
            "tags": []
          }
        },
        {
          "output_type": "display_data",
          "data": {
            "application/javascript": [
              "download(\"download_f7dac593-d68c-4bbd-b171-659ed692ffdf\", \"cycle_ndiff.zip\", 372497)"
            ],
            "text/plain": [
              "<IPython.core.display.Javascript object>"
            ]
          },
          "metadata": {
            "tags": []
          }
        },
        {
          "output_type": "stream",
          "text": [
            "time: 760 ms (started: 2021-05-24 08:18:12 +00:00)\n"
          ],
          "name": "stdout"
        }
      ]
    },
    {
      "cell_type": "code",
      "metadata": {
        "id": "aW8jARy1cb-I"
      },
      "source": [
        ""
      ],
      "execution_count": null,
      "outputs": []
    },
    {
      "cell_type": "code",
      "metadata": {
        "id": "LIuNh7v8ccAm"
      },
      "source": [
        ""
      ],
      "execution_count": 23,
      "outputs": []
    },
    {
      "cell_type": "code",
      "metadata": {
        "id": "2Yx_4EmK-RPZ"
      },
      "source": [
        ""
      ],
      "execution_count": 23,
      "outputs": []
    },
    {
      "cell_type": "code",
      "metadata": {
        "id": "4DXoLFn5AIMb"
      },
      "source": [
        ""
      ],
      "execution_count": 23,
      "outputs": []
    },
    {
      "cell_type": "code",
      "metadata": {
        "id": "COCmwR0eAeYD"
      },
      "source": [
        ""
      ],
      "execution_count": 23,
      "outputs": []
    },
    {
      "cell_type": "code",
      "metadata": {
        "id": "rLGfY_jvAhDs"
      },
      "source": [
        ""
      ],
      "execution_count": 23,
      "outputs": []
    },
    {
      "cell_type": "code",
      "metadata": {
        "id": "YgpSbPDZAjd6"
      },
      "source": [
        ""
      ],
      "execution_count": 23,
      "outputs": []
    },
    {
      "cell_type": "code",
      "metadata": {
        "id": "ysAfeCckB3Fw"
      },
      "source": [
        ""
      ],
      "execution_count": 23,
      "outputs": []
    }
  ]
}